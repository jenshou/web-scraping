{
 "cells": [
  {
   "cell_type": "markdown",
   "metadata": {},
   "source": [
    "# Extracting text from HTML file\n",
    "\n",
    "There are lots of data sources from which we might want to extract information, such as initial public offerings for various companies. E.g., [Tesla's IPO prospectus](https://www.sec.gov/Archives/edgar/data/1318605/000119312510017054/ds1.htm). One can imagine trying to mine such documents in an effort to predict which IPOs will do poorly or well.\n",
    "\n",
    "HTML has both text as well as so-called markup like `<b>`, which is used to specify formatting information.\n",
    "\n",
    "We will use the well-known [Beautiful soup](https://www.crummy.com/software/BeautifulSoup/bs4/doc/) Python library to extract text. \n",
    "\n",
    "First, either do a \"save as\" or do what the cool kids do:"
   ]
  },
  {
   "cell_type": "code",
   "execution_count": 44,
   "metadata": {},
   "outputs": [
    {
     "name": "stdout",
     "output_type": "stream",
     "text": [
      "  % Total    % Received % Xferd  Average Speed   Time    Time     Time  Current\n",
      "                                 Dload  Upload   Total   Spent    Left  Speed\n",
      "100 2306k    0 2306k    0     0  4186k      0 --:--:-- --:--:-- --:--:-- 4178k\n"
     ]
    }
   ],
   "source": [
    "! curl https://www.sec.gov/Archives/edgar/data/1318605/000119312510017054/ds1.htm > /tmp/TeslaIPO.html"
   ]
  },
  {
   "cell_type": "markdown",
   "metadata": {},
   "source": [
    "If you then do `open /tmp/TeslaIPO.html` from the command line, it will pop up in your browser window. Also take a look at what HTML looks like in the wild:"
   ]
  },
  {
   "cell_type": "code",
   "execution_count": 45,
   "metadata": {},
   "outputs": [
    {
     "name": "stdout",
     "output_type": "stream",
     "text": [
      "<DOCUMENT>\r\n",
      "<TYPE>S-1\r\n",
      "<SEQUENCE>1\r\n",
      "<FILENAME>ds1.htm\r\n",
      "<DESCRIPTION>REGISTRATION STATEMENT ON FORM S-1\r\n",
      "<TEXT>\r\n",
      "<HTML><HEAD>\r\n",
      "<TITLE>Registration Statement on Form S-1</TITLE>\r\n",
      "</HEAD>\r\n",
      " <BODY BGCOLOR=\"WHITE\">\r\n",
      "<h5 align=\"left\"><a href=\"#toc\">Table of Contents</a></h5>\r\n",
      "\r\n",
      " <P STYLE=\"margin-top:0px;margin-bottom:0px\" ALIGN=\"center\"><FONT STYLE=\"font-family:Times New Roman\" SIZE=\"2\"><B>As filed with the Securities and Exchange Commission on January 29, 2010 </B></FONT></P>\r\n",
      "<P STYLE=\"margin-top:0px;margin-bottom:0px\" ALIGN=\"right\"><FONT STYLE=\"font-family:Times New Roman\" SIZE=\"2\"><B>Registration No.&nbsp;333-&nbsp;&nbsp;&nbsp;&nbsp;&nbsp;&nbsp;&nbsp;&nbsp;&nbsp;&nbsp;&nbsp;&nbsp;&nbsp;&nbsp;&nbsp;&nbsp;</B></FONT></P>\r\n",
      "<P STYLE=\"font-size:2px;margin-top:0px;margin-bottom:0px\">&nbsp;</P> <P STYLE=\"line-height:0px;margin-top:0px;margin-bottom:0px;border-bottom:0.5pt solid #000000\">&nbsp;</P> <P\r\n"
     ]
    }
   ],
   "source": [
    "! head -15 /tmp/TeslaIPO.html"
   ]
  },
  {
   "cell_type": "markdown",
   "metadata": {},
   "source": [
    "## Main script\n",
    "\n",
    "Our main program accepts a file name parameter from the commandline, opens it, gets its text, converts the HTML to text, and close the file. Our first attempt, after looking at the documentation, might be the following (file `ipo-text.py`):"
   ]
  },
  {
   "cell_type": "code",
   "execution_count": 46,
   "metadata": {},
   "outputs": [
    {
     "name": "stdout",
     "output_type": "stream",
     "text": [
      "\n",
      "S-1\n",
      "1\n",
      "ds1.htm\n",
      "REGISTRATION STATEMENT ON FORM S-1\n",
      "\n",
      "\n",
      "Registration Statement on Form S-1\n",
      "\n",
      "\n",
      "Table of Contents\n",
      "As filed with the Securities and Exchange Commission on January 29, 2010 \n",
      "Registration No. 333-                \n",
      "      UNITED STATES  SECURITIES AND EXCHANGE COMMISSION  Washington, D.C. 20549  \n"
     ]
    }
   ],
   "source": [
    "import sys\n",
    "from bs4 import BeautifulSoup\n",
    "\n",
    "with open(\"/tmp/TeslaIPO.html\", \"r\") as f:\n",
    "    html_text = f.read()\n",
    "soup = BeautifulSoup(html_text, 'html.parser')\n",
    "text = soup.get_text()\n",
    "print(text[0:300])"
   ]
  },
  {
   "cell_type": "markdown",
   "metadata": {},
   "source": [
    "## Tidy up\n",
    "\n",
    "Let's improve our program by creating a function to extract text from HTML text:"
   ]
  },
  {
   "cell_type": "code",
   "execution_count": 17,
   "metadata": {},
   "outputs": [],
   "source": [
    "def html2text(html_text):\n",
    "    soup = BeautifulSoup(html_text, 'html.parser')\n",
    "    text = soup.get_text()\n",
    "    return text"
   ]
  },
  {
   "cell_type": "markdown",
   "metadata": {},
   "source": [
    "Then, our main program looks like:"
   ]
  },
  {
   "cell_type": "code",
   "execution_count": 18,
   "metadata": {
    "scrolled": true
   },
   "outputs": [
    {
     "name": "stdout",
     "output_type": "stream",
     "text": [
      "\n",
      "S-1\n",
      "1\n",
      "ds1.htm\n",
      "REGISTRATION STATEMENT ON FORM S-1\n",
      "\n",
      "\n",
      "Registration Statement on Form S-1\n",
      "\n",
      "\n",
      "Table of Contents\n",
      "As filed with the Securities and Exchange Commission on January 29, 2010 \n",
      "Registration No. 333-                \n",
      "      UNITED STATES  SECURITIES AND EXCHANGE COMMISSION  Washington, D.C. 20549      FORM S-1 \n",
      " REGISTRATION STATEMENT  UNDER  THE SECURITIES ACT OF 1933      Tesla Motors, Inc.  (Exact name of Registrant as\n",
      "specified in its charter)       \n",
      "\n",
      "\n",
      "\n",
      "\n",
      "\n",
      "\n",
      "\n",
      "\n",
      "Delaware\n",
      " \n",
      "3711\n",
      " \n",
      "91-2197729\n",
      "\n",
      " (State or other jurisdiction of incorporation or organization)\n",
      " \n",
      " (Primary Standard Industrial Classification Code Number)\n",
      " \n",
      " (I.R.S. Employer Identification Number) 3500 Deer Creek Road\n",
      " Palo Alto, California 94304  (650) 413-4000  (Address, including zip code, and telephone number,\n",
      "including area code, of Registrants principal executive offices)      Elon Musk \n",
      " Chief Executive Officer  Tesla Motors, Inc.  3500 Deer Creek Road  Palo Alto, California 94304  (650) 413-4000  (Name, address, inclu\n"
     ]
    }
   ],
   "source": [
    "import sys\n",
    "from bs4 import BeautifulSoup\n",
    "\n",
    "def html2text(html_text):\n",
    "    soup = BeautifulSoup(html_text, 'html.parser')\n",
    "    text = soup.get_text()\n",
    "    return text\n",
    "\n",
    "with open(\"/tmp/TeslaIPO.html\", \"r\") as f:\n",
    "    html_text = f.read()\n",
    "text = html2text(html_text)\n",
    "print(text[0:1000])"
   ]
  },
  {
   "cell_type": "markdown",
   "metadata": {},
   "source": [
    "### Exercise\n",
    "\n",
    "Copy that program into a Python file called `ipo-text.py` and run it from the command line. You will notice that there is weird stuff in the output like: `Registrant<U+0092>s`. That 92 is the character code, in hexadecimal, for the fancy single quote: `’`. You will have to download the [TeslaIPO.html](https://github.com/parrt/msds692/blob/master/data/TeslaIPO.html) file."
   ]
  },
  {
   "cell_type": "markdown",
   "metadata": {},
   "source": [
    "## Converting non-ASCII char\n",
    "\n",
    "We should clean up the text extracted from the HTML so that the non-ASCII characters are stripped or converted."
   ]
  },
  {
   "cell_type": "code",
   "execution_count": 19,
   "metadata": {
    "scrolled": true
   },
   "outputs": [
    {
     "name": "stdout",
     "output_type": "stream",
     "text": [
      "\n",
      "S-1\n",
      "1\n",
      "ds1.htm\n",
      "REGISTRATION STATEMENT ON FORM S-1\n",
      "\n",
      "\n",
      "Registration Statement on Form S-1\n",
      "\n",
      "\n",
      "Table of Contents\n",
      "As filed with the Securities and Exchange Commission on January 29, 2010 \n",
      "Registration No.333-\n",
      "   UNITED STATES  SECURITIES AND EXCHANGE COMMISSION  Washington, D.C. 20549    FORM S-1 \n",
      " REGISTR\n"
     ]
    }
   ],
   "source": [
    "text = [c for c in text if ord(c)<=127]\n",
    "text = ''.join(text)\n",
    "print(text[:300])"
   ]
  },
  {
   "cell_type": "markdown",
   "metadata": {},
   "source": [
    "### Exercise\n",
    "\n",
    "Print out the number of unique words in the document (split on whitespace). For Tesla's IPO, I get 10602 unique words."
   ]
  },
  {
   "cell_type": "code",
   "execution_count": 20,
   "metadata": {},
   "outputs": [
    {
     "data": {
      "text/plain": [
       "10602"
      ]
     },
     "execution_count": 20,
     "metadata": {},
     "output_type": "execute_result"
    }
   ],
   "source": [
    "len(set(text.split()))"
   ]
  },
  {
   "cell_type": "markdown",
   "metadata": {},
   "source": [
    "### Exercise\n",
    "\n",
    "Create a histogram using a dictionary that maps words to the word count. I use `defaultdict(int)` to define my histogram; very convenient. Sort and print out the list of tuples from `items()`"
   ]
  },
  {
   "cell_type": "code",
   "execution_count": 27,
   "metadata": {
    "scrolled": true
   },
   "outputs": [
    {
     "data": {
      "text/plain": [
       "[('S-1', 4),\n",
       " ('1', 17),\n",
       " ('ds1.htm', 1),\n",
       " ('REGISTRATION', 3),\n",
       " ('STATEMENT', 2),\n",
       " ('ON', 1),\n",
       " ('FORM', 2),\n",
       " ('Registration', 20),\n",
       " ('Statement', 6),\n",
       " ('on', 739)]"
      ]
     },
     "execution_count": 27,
     "metadata": {},
     "output_type": "execute_result"
    }
   ],
   "source": [
    "from collections import defaultdict\n",
    "counts = defaultdict(int)\n",
    "for w in text.split():\n",
    "    counts[w] += 1\n",
    "list(counts.items())[:10]"
   ]
  },
  {
   "cell_type": "code",
   "execution_count": 29,
   "metadata": {},
   "outputs": [
    {
     "data": {
      "text/plain": [
       "[('$', 362), ('$,', 1), ('$.', 4), ('$0', 2), ('$0,', 3)]"
      ]
     },
     "execution_count": 29,
     "metadata": {},
     "output_type": "execute_result"
    }
   ],
   "source": [
    "sorted(counts.items())[:5]"
   ]
  },
  {
   "cell_type": "code",
   "execution_count": 38,
   "metadata": {},
   "outputs": [
    {
     "name": "stdout",
     "output_type": "stream",
     "text": [
      "6455 the\n",
      "5762 of\n",
      "4265 and\n",
      "3814 to\n",
      "2502 our\n",
      "2380 in\n",
      "1689 a\n",
      "1280 we\n",
      "1264 for\n",
      "1194 or\n"
     ]
    }
   ],
   "source": [
    "def thecount(pair): return pair[1]\n",
    "histo = sorted(counts.items(), key=thecount, reverse=True)\n",
    "#histo = sorted(counts.items(), key=lambda x: x[1], reverse=True)\n",
    "for p in histo[0:10]:\n",
    "    print(f\"{p[1]} {p[0]}\")"
   ]
  },
  {
   "cell_type": "markdown",
   "metadata": {},
   "source": [
    "### Exercise\n",
    "\n",
    "Now, create the histogram the easy way using `Counter`. If you print that object, it will show you `Counter({'the': 6483, 'of': 5788, 'and': 4274, ...`."
   ]
  },
  {
   "cell_type": "code",
   "execution_count": 43,
   "metadata": {},
   "outputs": [
    {
     "name": "stdout",
     "output_type": "stream",
     "text": [
      "Counter({'the': 6455, 'of': 5762, 'and': 4265, 'to': 3814, 'our': 2502, 'in': 2380, 'a': 1689, 'we': 1280, 'for': 1264, 'or': 1194, 'as': 965, 'that': 862, 'be': 838, 'on': 739, 'with': 734, 'are': 701, 'We': 676, 'have': 648, 'will': 642, 'by': 616, 'stock': 606, 'is': 588, 'an': 575, 'shares': 568, 'not': 536, 'may': 531, 'Tesla': 529, 'from': 524, 'which': 523, 'The': 520, 'electric': 436, 'thi\n"
     ]
    }
   ],
   "source": [
    "from collections import Counter\n",
    "counts = Counter(text.split())\n",
    "print(str(counts)[0:400])"
   ]
  },
  {
   "cell_type": "markdown",
   "metadata": {},
   "source": [
    "## Stripping char beyond 255 from commandline\n",
    "\n",
    "If there are characters within the file that are non-ASCII and larger than 255, we can convert the file using the command line. Here's a simple version of the problem I put into file `/tmp/foo.html`:\n",
    "\n",
    "```html\n",
    "<html>\n",
    "<body>\n",
    "གྷ\n",
    "</body>\n",
    "</html>\n",
    "```\n",
    "\n",
    "I deliberately injected a Unicode code point > 255, which requires two bytes to store.  Most of the characters require just one byte. Here is first part of file:\n",
    "\n",
    "```bash\n",
    "$ od -c -t xC /tmp/t.html\n",
    "0000000    <   h   t   m   l   >  \\n   <   b   o   d   y   >  \\n   གྷ  **\n",
    "           3c  68  74  6d  6c  3e  0a  3c  62  6f  64  79  3e  0a  e0  bd\n",
    "...\n",
    "```           \n",
    "\n",
    "Here is how you could strip any non-one-byte characters from the file before processing:\n",
    "\n",
    "```bash\n",
    "$ iconv -c -f utf-8 -t ascii /tmp/foo.html \n",
    "<html>\n",
    "<body>\n",
    "\n",
    "</body>\n",
    "</html>\n",
    "```"
   ]
  }
 ],
 "metadata": {
  "kernelspec": {
   "display_name": "Python 3",
   "language": "python",
   "name": "python3"
  },
  "language_info": {
   "codemirror_mode": {
    "name": "ipython",
    "version": 3
   },
   "file_extension": ".py",
   "mimetype": "text/x-python",
   "name": "python",
   "nbconvert_exporter": "python",
   "pygments_lexer": "ipython3",
   "version": "3.6.6"
  },
  "toc": {
   "colors": {
    "hover_highlight": "#DAA520",
    "navigate_num": "#000000",
    "navigate_text": "#333333",
    "running_highlight": "#FF0000",
    "selected_highlight": "#FFD700",
    "sidebar_border": "#EEEEEE",
    "wrapper_background": "#FFFFFF"
   },
   "moveMenuLeft": true,
   "nav_menu": {},
   "navigate_menu": true,
   "number_sections": true,
   "sideBar": true,
   "skip_h1_title": false,
   "threshold": 4,
   "toc_cell": false,
   "toc_position": {},
   "toc_section_display": "block",
   "toc_window_display": false,
   "widenNotebook": false
  }
 },
 "nbformat": 4,
 "nbformat_minor": 2
}
