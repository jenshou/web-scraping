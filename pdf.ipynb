{
 "cells": [
  {
   "cell_type": "markdown",
   "metadata": {},
   "source": [
    "# Extracting text from PDFs\n",
    "\n",
    "[PDF](https://techterms.com/definition/pdf) stands for \"Portable Document Format\" and PDF files contain images, text, and page layout information.  PDF files are actually programs in a very simple programming language and, hence, can display just about anything. Much of what you see inside a PDF file is text, however, and we can grab that text without the layout information using [poppler](https://poppler.freedesktop.org/). (I used to use `pdfminer` but somehow no longer works on OS X.) Install it with:\n",
    " \n",
    "```bash\n",
    "brew install poppler\n",
    "```\n",
    "\n",
    "or\n",
    "\n",
    "```bash\n",
    "brew upgrade poppler\n",
    "```\n",
    "\n",
    "Then use `pdftotext` as a command from the commandline, which will extract out the text  and save in a text file. First download a sample PDF, such as [Tesla model S](https://www.tesla.com/sites/default/files/tesla-model-s.pdf), which we can easily do from the command line using `curl` (which you might have to install):"
   ]
  },
  {
   "cell_type": "code",
   "execution_count": 5,
   "metadata": {},
   "outputs": [
    {
     "name": "stdout",
     "output_type": "stream",
     "text": [
      "  % Total    % Received % Xferd  Average Speed   Time    Time     Time  Current\n",
      "                                 Dload  Upload   Total   Spent    Left  Speed\n",
      "100 9438k    0 9438k    0     0  4375k      0 --:--:--  0:00:02 --:--:-- 4375k\n"
     ]
    }
   ],
   "source": [
    "! curl https://www.tesla.com/sites/default/files/tesla-model-s.pdf > /tmp/tsla.pdf"
   ]
  },
  {
   "cell_type": "markdown",
   "metadata": {},
   "source": [
    "That command downloads the file and because of the redirection operator, `>`, the output gets written to `tsla.pdf` up in `/tmp` directory.\n",
    "\n",
    "Once we have the data, we can pass the filename to `pdftotext` to extract the text:"
   ]
  },
  {
   "cell_type": "code",
   "execution_count": 14,
   "metadata": {},
   "outputs": [
    {
     "name": "stdout",
     "output_type": "stream",
     "text": [
      "Syntax Warning: Invalid Font Weight\r\n",
      "Syntax Warning: Invalid Font Weight\r\n",
      "Syntax Warning: Invalid Font Weight\r\n",
      "Syntax Warning: Invalid Font Weight\r\n",
      "Syntax Warning: Invalid Font Weight\r\n"
     ]
    }
   ],
   "source": [
    "! pdftotext /tmp/tsla.pdf # saves into /tmp/tsla.txt"
   ]
  },
  {
   "cell_type": "markdown",
   "metadata": {},
   "source": [
    "(Don't worry about those warnings.)"
   ]
  },
  {
   "cell_type": "code",
   "execution_count": 7,
   "metadata": {},
   "outputs": [
    {
     "name": "stdout",
     "output_type": "stream",
     "text": [
      "Model S\r\n",
      "Premium Electric Sedan\r\n",
      "\r\n",
      "\f",
      "An evolution\r\n",
      "in automobile\r\n",
      "engineering\r\n",
      "Tesla’s advanced electric powertrain\r\n",
      "delivers exhilarating performance.\r\n",
      "Unlike a gasoline internal combustion\r\n",
      "engine with hundreds of moving\r\n"
     ]
    }
   ],
   "source": [
    "! head -10 /tmp/tsla.txt"
   ]
  },
  {
   "cell_type": "markdown",
   "metadata": {},
   "source": [
    "Once you have text output, you can perform whatever analysis you'd like without having to worry about the data coming in PDF form. For example, you might want to run some analysis on financial documents but they are all in PDF. First, convert to text and then perform your analysis."
   ]
  },
  {
   "cell_type": "markdown",
   "metadata": {},
   "source": [
    "### Exercise\n",
    "\n",
    "Read that text file with a Python script and split the document into a list of words. Print out the first 100 words. It should look like:\n",
    "\n",
    "```\n",
    "['Model', 'S', 'Premium', 'Electric', 'Sedan', 'An', ...]\n",
    "```"
   ]
  },
  {
   "cell_type": "code",
   "execution_count": 8,
   "metadata": {},
   "outputs": [
    {
     "name": "stdout",
     "output_type": "stream",
     "text": [
      "['Model', 'S', 'Premium', 'Electric', 'Sedan', 'An', 'evolution', 'in', 'automobile', 'engineering', 'Tesla’s', 'advanced', 'electric', 'powertrain', 'delivers', 'exhilarating', 'performance.', 'Unlike', 'a', 'gasoline', 'internal', 'combustion', 'engine', 'with', 'hundreds', 'of', 'moving', 'parts,', 'Tesla', 'electric', 'motors', 'have', 'only', 'one', 'moving', 'piece:', 'the', 'rotor.', 'As', 'a', 'result,', 'Model', 'S', 'acceleration', 'is', 'instantaneous,', 'silent', 'and', 'smooth.', 'Step', 'on', 'the', 'accelerator', 'and', 'in', 'as', 'little', 'as', '3.1', 'seconds', 'Model', 'S', 'is', 'travelling', '60', 'miles', 'per', 'hour,', 'without', 'hesitation,', 'and', 'without', 'a', 'drop', 'of', 'gasoline.', 'Model', 'S', 'is', 'an', 'evolution', 'in', 'automobile', 'engineering.', 'All-Wheel', 'Drive', 'Dual', 'Motor', 'Rear', 'Wheel', 'Drive', 'All-Wheel', 'Drive', 'Dual', 'Motor', 'Dual', 'Motor', 'Model', 'S', 'is']\n"
     ]
    }
   ],
   "source": [
    "with open('/tmp/tsla.txt') as f:\n",
    "    print(f.read().split()[:100])"
   ]
  },
  {
   "cell_type": "markdown",
   "metadata": {},
   "source": [
    "## Text processing from the command line\n",
    "\n",
    "It's often the case that we can do a huge amount of cleanup on unstructured text before using Python to process it more formally. We can delete unwanted characters, squeeze repeated characters, reformat, etc... In this section you will do a number of exercises that get you use to processing files from the command line. If you'd like to dig further, you can see [this link](http://www.tldp.org/LDP/abs/html/textproc.html).\n",
    "\n",
    "The operating system launches all commands in a pipeline sequence as separate processes, which means they can run on multiple processors simultaneously. This gives us parallel processing without having to write complicated code. As data is completed by one stage, it passes it to the next stage of the pipeline, and continues to work on its input. The next stage consumes that input in parallel. Consequently, processing text from the command line can be extremely efficient, much more so than doing it in Python."
   ]
  },
  {
   "cell_type": "markdown",
   "metadata": {},
   "source": [
    "### Exercise\n",
    "\n",
    "Using the `tr` (translate) command from the terminal, strip all of the new lines from the text file you created above (`/tmp/tsla.txt`).  Look at the manual page with this command:\n",
    "\n",
    "```python\n",
    "$ man tr\n",
    "```\n",
    "\n",
    "You can pipe the output of `tr` to `head -c 150` to only print out the first 150 characters of the output."
   ]
  },
  {
   "cell_type": "code",
   "execution_count": 9,
   "metadata": {
    "scrolled": true
   },
   "outputs": [
    {
     "name": "stdout",
     "output_type": "stream",
     "text": [
      "Model S Premium Electric Sedan \f",
      "An evolution in automobile engineering Tesla’s advanced electric powertrain delivers exhilarating performance. Unlike a gasoline internal combustion engine with hundr"
     ]
    }
   ],
   "source": [
    "! tr -s '\\n' ' ' < /tmp/tsla.txt | head -c 200"
   ]
  },
  {
   "cell_type": "markdown",
   "metadata": {},
   "source": [
    "### Exercise\n",
    "\n",
    "Reformat the text using `tr` and `fold`. The `fold` command wraps lines at 80 characters; use its `-s` option to making break lines at spaces between words."
   ]
  },
  {
   "cell_type": "code",
   "execution_count": 10,
   "metadata": {},
   "outputs": [
    {
     "name": "stdout",
     "output_type": "stream",
     "text": [
      "Model S Premium Electric Sedan \f",
      "An evolution in automobile engineering Tesla’s \r\n",
      "advanced electric powertrain delivers exhilarating performance. Unlike a \r\n",
      "gasoline internal combustion engine with hundreds of moving parts, Tesla \r\n",
      "electric motors have only one moving piece: the rotor. As a result, Model S \r\n",
      "acceleration is instantaneous, silent and smooth. Step on the accelerator and \r\n",
      "in as little as 3.1 seconds Model S is travelling 60 miles per hour, without \r\n",
      "hesitation, and without a drop of gasoline. Model S is an evolution in \r\n",
      "automobile engineering. \f",
      "All-Wheel Drive Dual Motor Rear Wheel Drive All-Wheel \r\n",
      "Drive Dual Motor Dual Motor Model S is a categorical improvement on \r\n",
      "conventional all-wheel drive systems. With two motors, one in the front and one \r\n"
     ]
    }
   ],
   "source": [
    "! tr -s '\\n' ' ' < /tmp/tsla.txt | fold -s | head -10"
   ]
  },
  {
   "cell_type": "markdown",
   "metadata": {},
   "source": [
    "### Exercise\n",
    "\n",
    "It is sometimes useful to put a line number at the left edge of all lines. For example, you might want to create a unique ID number for each row of a CSV file. Pipe the output of the previous command to `nl` so that you get the line number on the left edge."
   ]
  },
  {
   "cell_type": "code",
   "execution_count": 11,
   "metadata": {},
   "outputs": [
    {
     "name": "stdout",
     "output_type": "stream",
     "text": [
      "     1\tModel S Premium Electric Sedan \f",
      "An evolution in automobile engineering Tesla’s \r\n",
      "     2\tadvanced electric powertrain delivers exhilarating performance. Unlike a \r\n",
      "     3\tgasoline internal combustion engine with hundreds of moving parts, Tesla \r\n",
      "     4\telectric motors have only one moving piece: the rotor. As a result, Model S \r\n",
      "     5\tacceleration is instantaneous, silent and smooth. Step on the accelerator and \r\n",
      "     6\tin as little as 3.1 seconds Model S is travelling 60 miles per hour, without \r\n",
      "     7\thesitation, and without a drop of gasoline. Model S is an evolution in \r\n",
      "     8\tautomobile engineering. \f",
      "All-Wheel Drive Dual Motor Rear Wheel Drive All-Wheel \r\n",
      "     9\tDrive Dual Motor Dual Motor Model S is a categorical improvement on \r\n",
      "    10\tconventional all-wheel drive systems. With two motors, one in the front and one \r\n"
     ]
    }
   ],
   "source": [
    "! tr -s '\\n' ' ' < /tmp/tsla.txt | fold -s | nl | head -10"
   ]
  },
  {
   "cell_type": "markdown",
   "metadata": {},
   "source": [
    "### Exercise\n",
    "\n",
    "Convert the text to all lowercase using `tr`. Hint: `a-z` and `A-Z` are [regular expressions](http://www.rexegg.com/regex-quickstart.html) that describe English characters and uppercase English characters."
   ]
  },
  {
   "cell_type": "code",
   "execution_count": 12,
   "metadata": {
    "scrolled": true
   },
   "outputs": [
    {
     "name": "stdout",
     "output_type": "stream",
     "text": [
      "model s\r\n",
      "premium electric sedan\r\n",
      "\r\n",
      "\f",
      "an evolution\r\n",
      "in automobile\r\n",
      "engineering\r\n",
      "tesla’s advanced electric powertrain\r\n",
      "delivers exhilarating performance.\r\n",
      "unli"
     ]
    }
   ],
   "source": [
    "! tr 'A-Z' 'a-z' < /tmp/tsla.txt | head -c 150"
   ]
  },
  {
   "cell_type": "markdown",
   "metadata": {},
   "source": [
    "### Exercise\n",
    "\n",
    "Do the same thing but on the text that has the new lines removed."
   ]
  },
  {
   "cell_type": "code",
   "execution_count": 13,
   "metadata": {},
   "outputs": [
    {
     "name": "stdout",
     "output_type": "stream",
     "text": [
      "model s premium electric sedan \f",
      "an evolution in automobile engineering tesla’s advanced electric powertrain delivers exhilarating performance. unlik"
     ]
    }
   ],
   "source": [
    "! tr -s '\\n' ' ' < /tmp/tsla.txt | tr 'A-Z' 'a-z' | head -c 150"
   ]
  }
 ],
 "metadata": {
  "anaconda-cloud": {},
  "kernelspec": {
   "display_name": "Python 3",
   "language": "python",
   "name": "python3"
  },
  "language_info": {
   "codemirror_mode": {
    "name": "ipython",
    "version": 3
   },
   "file_extension": ".py",
   "mimetype": "text/x-python",
   "name": "python",
   "nbconvert_exporter": "python",
   "pygments_lexer": "ipython3",
   "version": "3.6.6"
  },
  "toc": {
   "base_numbering": 1,
   "colors": {
    "hover_highlight": "#DAA520",
    "navigate_num": "#000000",
    "navigate_text": "#333333",
    "running_highlight": "#FF0000",
    "selected_highlight": "#FFD700",
    "sidebar_border": "#EEEEEE",
    "wrapper_background": "#FFFFFF"
   },
   "moveMenuLeft": true,
   "nav_menu": {
    "height": "66px",
    "width": "252px"
   },
   "navigate_menu": true,
   "number_sections": true,
   "sideBar": true,
   "skip_h1_title": false,
   "threshold": 4,
   "title_cell": "Table of Contents",
   "title_sidebar": "Contents",
   "toc_cell": false,
   "toc_position": {},
   "toc_section_display": "block",
   "toc_window_display": false,
   "widenNotebook": false
  }
 },
 "nbformat": 4,
 "nbformat_minor": 2
}
